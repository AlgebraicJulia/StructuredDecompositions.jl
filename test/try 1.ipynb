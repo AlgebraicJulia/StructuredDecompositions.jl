{
 "cells": [
  {
   "cell_type": "code",
   "execution_count": 1,
   "id": "f08cf7c4-e7d9-496f-b3f4-34cee0713330",
   "metadata": {},
   "outputs": [],
   "source": [
    "using StructuredDecompositions.Decompositions\n",
    "using Catlab\n",
    "using MLStyle\n",
    "using PartialFunctions\n",
    "using StructuredDecompositions.Decompositions\n",
    "using StructuredDecompositions.DecidingSheaves\n",
    "using StructuredDecompositions.FunctorUtils\n",
    "using StructuredDecompositions.JunctionTrees\n",
    "using Test\n",
    "\n",
    "\n",
    "import TreeWidthSolver"
   ]
  },
  {
   "cell_type": "code",
   "execution_count": 2,
   "id": "8e106760-0525-4c7c-a340-cff3981731ec",
   "metadata": {},
   "outputs": [
    {
     "data": {
      "text/plain": [
       "test_colorability (generic function with 1 method)"
      ]
     },
     "execution_count": 2,
     "metadata": {},
     "output_type": "execute_result"
    }
   ],
   "source": [
    "function Catlab.WiringDiagramAlgebras.make_homomorphism(row::AbstractVector{T}, X::StructACSet{S}, Y::StructACSet{S}) where {T, S}\n",
    "  components = let i = 0\n",
    "    NamedTuple{ob(S)}(T[row[i+=1] for _ in parts(X,c)] for c in ob(S))\n",
    "  end\n",
    "  ACSetTransformation(components, X, Y)\n",
    "end\n",
    "\n",
    "\n",
    "function K(n::Integer)\n",
    "    complete_graph(Graph, n)\n",
    "end\n",
    "\n",
    "\n",
    "struct Coloring\n",
    "    n::Int\n",
    "end\n",
    "\n",
    "\n",
    "function (coloring::Coloring)(graph::Graph)\n",
    "    FinSet(homomorphisms(graph, K(coloring.n); alg=HomomorphismQuery()))\n",
    "end\n",
    "\n",
    "\n",
    "function (coloring::Coloring)(f::ACSetTransformation)\n",
    "    FinFunction(λ -> compose(f, λ), coloring(codom(f)), coloring(dom(f)))\n",
    "end\n",
    "\n",
    "\n",
    "function skeletal_coloring(n::Integer)\n",
    "    skeleton ∘ Coloring(n)\n",
    "end\n",
    "\n",
    "\n",
    "function test_colorability(n::Integer, decomp::StrDecomp)\n",
    "    left = is_homomorphic(ob(colimit(decomp)), K(n))\n",
    "    right = first(decide_sheaf_tree_shape(skeletal_coloring(n), decomp))\n",
    "    isequal(left, right)\n",
    "end"
   ]
  },
  {
   "cell_type": "code",
   "execution_count": 3,
   "id": "5bb2e16d-b139-4bdb-b3df-eb58c548cbb1",
   "metadata": {},
   "outputs": [
    {
     "data": {
      "text/plain": [
       "StrDecomp{Graph, Catlab.CategoricalAlgebra.FinCats.FreeCatGraph{Graph}, Catlab.CategoricalAlgebra.FinCats.FinDomFunctorMap{Catlab.CategoricalAlgebra.FinCats.FreeCatGraph{Graph}, TypeCat{Graph, StructTightACSetTransformation{TypeLevelBasicSchema{Symbol, Tuple{:V, :E}, Tuple{(:src, :E, :V), (:tgt, :E, :V)}, Tuple{}, Tuple{}, Tuple{}}, @NamedTuple{V::Catlab.CategoricalAlgebra.FinSets.FinDomFunctionVector{Int64, Vector{Int64}, Catlab.CategoricalAlgebra.FinSets.FinSetInt}, E::Catlab.CategoricalAlgebra.FinSets.FinDomFunctionVector{Int64, Vector{Int64}, Catlab.CategoricalAlgebra.FinSets.FinSetInt}}, Graph, Graph}}, Vector{Graph}, Vector{StructTightACSetTransformation{TypeLevelBasicSchema{Symbol, Tuple{:V, :E}, Tuple{(:src, :E, :V), (:tgt, :E, :V)}, Tuple{}, Tuple{}, Tuple{}}, @NamedTuple{V::Catlab.CategoricalAlgebra.FinSets.FinDomFunctionVector{Int64, Vector{Int64}, Catlab.CategoricalAlgebra.FinSets.FinSetInt}, E::Catlab.CategoricalAlgebra.FinSets.FinDomFunctionVector{Int64, Vector{Int64}, Catlab.CategoricalAlgebra.FinSets.FinSetInt}}, Graph, Graph}}}}(Graph:\n",
       "  V = 1:3\n",
       "  E = 1:2\n",
       "  src : E → V = [2, 3]\n",
       "  tgt : E → V = [1, 2], FinDomFunctor(Graph[Graph:\n",
       "  V = 1:3\n",
       "  E = 1:2\n",
       "  src : E → V = [1, 3]\n",
       "  tgt : E → V = [2, 1], Graph:\n",
       "  V = 1:3\n",
       "  E = 1:1\n",
       "  src : E → V = [3]\n",
       "  tgt : E → V = [1], Graph:\n",
       "  V = 1:3\n",
       "  E = 1:2\n",
       "  src : E → V = [1, 3]\n",
       "  tgt : E → V = [2, 2], Graph:\n",
       "  V = 1:2\n",
       "  E = 1:0\n",
       "  src : E → V = Int64[]\n",
       "  tgt : E → V = Int64[], Graph:\n",
       "  V = 1:2\n",
       "  E = 1:0\n",
       "  src : E → V = Int64[]\n",
       "  tgt : E → V = Int64[]], StructTightACSetTransformation{TypeLevelBasicSchema{Symbol, Tuple{:V, :E}, Tuple{(:src, :E, :V), (:tgt, :E, :V)}, Tuple{}, Tuple{}, Tuple{}}, @NamedTuple{V::Catlab.CategoricalAlgebra.FinSets.FinDomFunctionVector{Int64, Vector{Int64}, Catlab.CategoricalAlgebra.FinSets.FinSetInt}, E::Catlab.CategoricalAlgebra.FinSets.FinDomFunctionVector{Int64, Vector{Int64}, Catlab.CategoricalAlgebra.FinSets.FinSetInt}}, Graph, Graph}[ACSetTransformation((V = FinFunction([1, 2], 2, 3), E = FinFunction(Int64[], 0, 1)), Graph {V:2, E:0}, Graph {V:3, E:1}), ACSetTransformation((V = FinFunction([1, 3], 2, 3), E = FinFunction(Int64[], 0, 2)), Graph {V:2, E:0}, Graph {V:3, E:2}), ACSetTransformation((V = FinFunction([2, 3], 2, 3), E = FinFunction(Int64[], 0, 2)), Graph {V:2, E:0}, Graph {V:3, E:2}), ACSetTransformation((V = FinFunction([2, 3], 2, 3), E = FinFunction(Int64[], 0, 1)), Graph {V:2, E:0}, Graph {V:3, E:1})], FinCat(Graph {V:5, E:4}), TypeCat(Graph, StructTightACSetTransformation{TypeLevelBasicSchema{Symbol, Tuple{:V, :E}, Tuple{(:src, :E, :V), (:tgt, :E, :V)}, Tuple{}, Tuple{}, Tuple{}}, @NamedTuple{V::Catlab.CategoricalAlgebra.FinSets.FinDomFunctionVector{Int64, Vector{Int64}, Catlab.CategoricalAlgebra.FinSets.FinSetInt}, E::Catlab.CategoricalAlgebra.FinSets.FinDomFunctionVector{Int64, Vector{Int64}, Catlab.CategoricalAlgebra.FinSets.FinSetInt}}, Graph, Graph})), Decomposition, FinCat(Graph:\n",
       "  V = 1:5\n",
       "  E = 1:4\n",
       "  src : E → V = [4, 5, 4, 5]\n",
       "  tgt : E → V = [2, 3, 1, 2]))"
      ]
     },
     "execution_count": 3,
     "metadata": {},
     "output_type": "execute_result"
    }
   ],
   "source": [
    "# bag 1\n",
    "    H1 = @acset Graph begin\n",
    "        V = 3\n",
    "        E = 2\n",
    "        src = [1, 1]\n",
    "        tgt = [2, 3]\n",
    "    end\n",
    "\n",
    "    # adhesion 1, 2\n",
    "    H12 = @acset Graph begin\n",
    "        V = 2\n",
    "    end\n",
    "\n",
    "    # bag 2\n",
    "    H2 = @acset Graph begin\n",
    "        V = 3\n",
    "        E = 1\n",
    "        src = [1]\n",
    "        tgt = [3]\n",
    "    end\n",
    "\n",
    "    H23 = @acset Graph begin\n",
    "        V = 2\n",
    "    end\n",
    "\n",
    "    H3 = @acset Graph begin\n",
    "        V = 3\n",
    "        E = 2\n",
    "        src = [3, 3]\n",
    "        tgt = [1, 2]\n",
    "    end\n",
    "\n",
    "    G = @acset Graph begin\n",
    "        V = 3\n",
    "        E = 2\n",
    "        src = [1, 2]\n",
    "        tgt = [2, 3]\n",
    "    end\n",
    "\n",
    "    # transformations\n",
    "    Γ = FinDomFunctor(\n",
    "        Dict(1 => H1, 2 => H2, 3 => H3, 4 => H12, 5 => H23),\n",
    "        Dict(\n",
    "            1 => ACSetTransformation(H12, H1, V=[2, 3]),\n",
    "            2 => ACSetTransformation(H12, H2, V=[2, 1]),\n",
    "            3 => ACSetTransformation(H23, H2, V=[2, 3]),\n",
    "            4 => ACSetTransformation(H23, H3, V=[2, 1])),\n",
    "        ∫(G))\n",
    "\n",
    "    manual = StrDecomp(G, Γ)\n",
    "    automatic = StrDecomp(ob(colimit(manual)))"
   ]
  },
  {
   "cell_type": "code",
   "execution_count": 4,
   "id": "0701735f-d7e1-4b9d-9b1d-06b2cce2fe13",
   "metadata": {},
   "outputs": [
    {
     "data": {
      "text/plain": [
       "false"
      ]
     },
     "execution_count": 4,
     "metadata": {},
     "output_type": "execute_result"
    }
   ],
   "source": [
    "decide_sheaf_tree_shape(skeletal_coloring(2), manual)[1] == false"
   ]
  },
  {
   "cell_type": "code",
   "execution_count": 5,
   "id": "d6cec8cc-fc86-4317-ba7f-7487f5bdb58e",
   "metadata": {},
   "outputs": [
    {
     "data": {
      "text/plain": [
       "false"
      ]
     },
     "execution_count": 5,
     "metadata": {},
     "output_type": "execute_result"
    }
   ],
   "source": [
    "decide_sheaf_tree_shape(skeletal_coloring(2), automatic)[1] == false"
   ]
  },
  {
   "cell_type": "code",
   "execution_count": 6,
   "id": "6dea34f1-60e1-4228-ab9b-07b0c3f1ce25",
   "metadata": {},
   "outputs": [
    {
     "data": {
      "text/plain": [
       "true"
      ]
     },
     "execution_count": 6,
     "metadata": {},
     "output_type": "execute_result"
    }
   ],
   "source": [
    "decide_sheaf_tree_shape(skeletal_coloring(3), manual)[1] == true"
   ]
  },
  {
   "cell_type": "code",
   "execution_count": 7,
   "id": "9c6461e2-23cc-426c-a7ee-0acbaecce077",
   "metadata": {},
   "outputs": [
    {
     "data": {
      "text/plain": [
       "true"
      ]
     },
     "execution_count": 7,
     "metadata": {},
     "output_type": "execute_result"
    }
   ],
   "source": [
    "decide_sheaf_tree_shape(skeletal_coloring(3), automatic)[1] == true"
   ]
  },
  {
   "cell_type": "code",
   "execution_count": 8,
   "id": "67145ab9-bcc0-4fbe-bd5f-2f6ab6e30001",
   "metadata": {},
   "outputs": [
    {
     "data": {
      "text/plain": [
       "false"
      ]
     },
     "execution_count": 8,
     "metadata": {},
     "output_type": "execute_result"
    }
   ],
   "source": [
    "all(test_colorability(n, manual) for n ∈ range(1, 3))"
   ]
  },
  {
   "cell_type": "code",
   "execution_count": 12,
   "id": "a40c78b9-2f13-4b50-95e0-eabe603eb309",
   "metadata": {},
   "outputs": [
    {
     "data": {
      "text/plain": [
       "adhesion_filter (generic function with 1 method)"
      ]
     },
     "execution_count": 12,
     "metadata": {},
     "output_type": "execute_result"
    }
   ],
   "source": [
    "function adhesion_filter(tup::Tuple, d::StructuredDecomposition)\n",
    "  if d.decomp_type == Decomposition\n",
    "    error(\"expecting \", CoDecomposition, \" given \", Decomposition)\n",
    "  end\n",
    "  # d_csp is the cospan dx₁ -> de <- dx₂ corresp to some edge e = x₁x₂ in shape(d)\n",
    "  (csp, d_csp)      = tup  #unpack the tuple\n",
    "  # the pullback cone dx₁ <-l₁-- p --l₂ --> dx₂ with legs l₁ and l₂\n",
    "  p_cone            = pullback(d_csp)\n",
    "  p_legs            = legs(p_cone)\n",
    "  # for each leg lᵢ : p → xᵢ of the pullback cone, \n",
    "  # compute its image ιᵢ : im lᵢ → dxᵢ\n",
    "  imgs              = force.(map( f -> legs(image(f))[1], p_legs))\n",
    "  # now get the new desired cospan; \n",
    "  # i.e.  im l₁ --ι₁--> dx₁ --l₁--> de <--l₂--dx₂ <--ι₂-- im l₂\n",
    "  new_d_csp         = force.(map(t -> compose(t...), zip(imgs, d_csp)))  \n",
    "  # get the domain of d \n",
    "  d_dom             = dom(d.diagram)\n",
    "  d_codom           = codom(d.diagram)\n",
    "  # now make the new decomposition, call it δ\n",
    "  # start with the object map δ₀\n",
    "  function ob_replace(x)\n",
    "    if x == dom(d_dom, csp[1])\n",
    "      dom(new_d_csp[1])\n",
    "    elseif x == dom(d_dom, csp[2])\n",
    "      dom(new_d_csp[2])\n",
    "    else \n",
    "      ob_map(d,x) \n",
    "    end\n",
    "  end\n",
    "  δ₀ = Dict( x => ob_replace(x) for x ∈ ob_generators(d_dom) )\n",
    "  # now do the same thing with the morphism map\n",
    "  function mor_replace(f) \n",
    "    if f == csp[1]\n",
    "      return new_d_csp[1]\n",
    "    elseif f == csp[2]\n",
    "      return new_d_csp[2]\n",
    "    else\n",
    "      return hom_map(d,f)\n",
    "    end \n",
    "  end\n",
    "  δ₁ = Dict( f => mor_replace(f) for f ∈ hom_generators(d_dom) )\n",
    "  StrDecomp(d.decomp_shape, FinDomFunctor(δ₀, δ₁, d.domain), d.decomp_type)\n",
    "end"
   ]
  },
  {
   "cell_type": "code",
   "execution_count": 9,
   "id": "d0a86b64-c8bf-4486-bfef-0c8fec6cfcb8",
   "metadata": {},
   "outputs": [
    {
     "data": {
      "text/plain": [
       "StrDecomp{Graph, Catlab.CategoricalAlgebra.FinCats.FreeCatGraph{Graph}, Catlab.CategoricalAlgebra.FinCats.FinDomFunctorMap{Catlab.CategoricalAlgebra.FinCats.FreeCatGraph{Graph}, TypeCat{Catlab.CategoricalAlgebra.FinSets.FinSetInt, Catlab.CategoricalAlgebra.FinSets.FinDomFunctionVector{Int64, Vector{Int64}, Catlab.CategoricalAlgebra.FinSets.FinSetInt}}, Dict{Int64, Catlab.CategoricalAlgebra.FinSets.FinSetInt}, Dict{Int64, Catlab.CategoricalAlgebra.FinSets.FinDomFunctionVector{Int64, Vector{Int64}, Catlab.CategoricalAlgebra.FinSets.FinSetInt}}}}(Graph:\n",
       "  V = 1:3\n",
       "  E = 1:2\n",
       "  src : E → V = [1, 2]\n",
       "  tgt : E → V = [2, 3], FinDomFunctor(Dict{Int64, Catlab.CategoricalAlgebra.FinSets.FinSetInt}(5 => FinSet(4), 4 => FinSet(4), 2 => FinSet(4), 3 => FinSet(2), 1 => FinSet(2)), Dict{Int64, Catlab.CategoricalAlgebra.FinSets.FinDomFunctionVector{Int64, Vector{Int64}, Catlab.CategoricalAlgebra.FinSets.FinSetInt}}(4 => FinFunction([4, 1], 2, 4), 2 => FinFunction([1, 2, 3, 4], 4, 4), 3 => FinFunction([3, 4, 1, 2], 4, 4), 1 => FinFunction([4, 1], 2, 4)), FinCat(Graph {V:5, E:4}), TypeCat(Catlab.CategoricalAlgebra.FinSets.FinSetInt, Catlab.CategoricalAlgebra.FinSets.FinDomFunctionVector{Int64, Vector{Int64}, Catlab.CategoricalAlgebra.FinSets.FinSetInt})), CoDecomposition, FinCat(Graph:\n",
       "  V = 1:5\n",
       "  E = 1:4\n",
       "  src : E → V = [1, 2, 2, 3]\n",
       "  tgt : E → V = [4, 5, 4, 5]))"
      ]
     },
     "execution_count": 9,
     "metadata": {},
     "output_type": "execute_result"
    }
   ],
   "source": [
    "  witness = 𝐃(skeletal_coloring(2), manual, CoDecomposition)"
   ]
  },
  {
   "cell_type": "code",
   "execution_count": 10,
   "id": "d23fa1eb-1daf-4025-a76f-363019ab8789",
   "metadata": {},
   "outputs": [
    {
     "data": {
      "text/plain": [
       "2-element Vector{Tuple{Vector{Int64}, Vector{Catlab.CategoricalAlgebra.FinSets.FinDomFunctionVector{Int64, Vector{Int64}, Catlab.CategoricalAlgebra.FinSets.FinSetInt}}}}:\n",
       " ([1, 3], [FinFunction([4, 1], 2, 4), FinFunction([3, 4, 1, 2], 4, 4)])\n",
       " ([2, 4], [FinFunction([1, 2, 3, 4], 4, 4), FinFunction([4, 1], 2, 4)])"
      ]
     },
     "execution_count": 10,
     "metadata": {},
     "output_type": "execute_result"
    }
   ],
   "source": [
    "  adhesion_spans = adhesionSpans(𝐃(skeletal_coloring(2), manual, CoDecomposition), true)"
   ]
  },
  {
   "cell_type": "code",
   "execution_count": 13,
   "id": "51f4b4c2-3da0-450c-8a24-4c5eddc19983",
   "metadata": {},
   "outputs": [
    {
     "data": {
      "text/plain": [
       "(true, StrDecomp{Graph, Catlab.CategoricalAlgebra.FinCats.FreeCatGraph{Graph}, Catlab.CategoricalAlgebra.FinCats.FinDomFunctorMap{Catlab.CategoricalAlgebra.FinCats.FreeCatGraph{Graph}, TypeCat{Catlab.CategoricalAlgebra.FinSets.FinSetInt, Catlab.CategoricalAlgebra.FinSets.FinDomFunctionVector{Int64, Vector{Int64}, Catlab.CategoricalAlgebra.FinSets.FinSetInt}}, Dict{Int64, Catlab.CategoricalAlgebra.FinSets.FinSetInt}, Dict{Int64, Catlab.CategoricalAlgebra.FinSets.FinDomFunctionVector{Int64, Vector{Int64}, Catlab.CategoricalAlgebra.FinSets.FinSetInt}}}}(Graph:\n",
       "  V = 1:3\n",
       "  E = 1:2\n",
       "  src : E → V = [1, 2]\n",
       "  tgt : E → V = [2, 3], FinDomFunctor(Dict{Int64, Catlab.CategoricalAlgebra.FinSets.FinSetInt}(5 => FinSet(4), 4 => FinSet(4), 2 => FinSet(2), 3 => FinSet(2), 1 => FinSet(2)), Dict{Int64, Catlab.CategoricalAlgebra.FinSets.FinDomFunctionVector{Int64, Vector{Int64}, Catlab.CategoricalAlgebra.FinSets.FinSetInt}}(4 => FinFunction([4, 1], 2, 4), 2 => FinFunction([1, 4], 2, 4), 3 => FinFunction([4, 1], 2, 4), 1 => FinFunction([4, 1], 2, 4)), FinCat(Graph {V:5, E:4}), TypeCat(Catlab.CategoricalAlgebra.FinSets.FinSetInt, Catlab.CategoricalAlgebra.FinSets.FinDomFunctionVector{Int64, Vector{Int64}, Catlab.CategoricalAlgebra.FinSets.FinSetInt})), CoDecomposition, FinCat(Graph:\n",
       "  V = 1:5\n",
       "  E = 1:4\n",
       "  src : E → V = [1, 2, 2, 3]\n",
       "  tgt : E → V = [4, 5, 4, 5])))"
      ]
     },
     "execution_count": 13,
     "metadata": {},
     "output_type": "execute_result"
    }
   ],
   "source": [
    "  for adhesion in adhesion_spans\n",
    "    witness = adhesion_filter(adhesion, witness)\n",
    "    if any(isempty, bags(witness))\n",
    "      return (false, witness)\n",
    "    end\n",
    "  end\n",
    "  return (true, witness)"
   ]
  },
  {
   "cell_type": "code",
   "execution_count": 23,
   "id": "f0927399-4cb9-46ce-b6a4-d67734379799",
   "metadata": {},
   "outputs": [
    {
     "data": {
      "text/plain": [
       "([1, 3], Catlab.CategoricalAlgebra.FinSets.FinDomFunctionVector{Int64, Vector{Int64}, Catlab.CategoricalAlgebra.FinSets.FinSetInt}[FinFunction([4, 1], 2, 4), FinFunction([3, 4, 1, 2], 4, 4)])"
      ]
     },
     "execution_count": 23,
     "metadata": {},
     "output_type": "execute_result"
    }
   ],
   "source": [
    "tup = ([1, 3], [FinFunction([4, 1], 2, 4), FinFunction([3, 4, 1, 2], 4, 4)])"
   ]
  },
  {
   "cell_type": "code",
   "execution_count": 13,
   "id": "4a2ca2b1-c2a1-4243-a9d8-1525fbb215b7",
   "metadata": {},
   "outputs": [
    {
     "data": {
      "text/plain": [
       "StrDecomp{Graph, Catlab.CategoricalAlgebra.FinCats.FreeCatGraph{Graph}, Catlab.CategoricalAlgebra.FinCats.FinDomFunctorMap{Catlab.CategoricalAlgebra.FinCats.FreeCatGraph{Graph}, TypeCat{Catlab.CategoricalAlgebra.FinSets.FinSetInt, Catlab.CategoricalAlgebra.FinSets.FinDomFunctionVector{Int64, Vector{Int64}, Catlab.CategoricalAlgebra.FinSets.FinSetInt}}, Dict{Int64, Catlab.CategoricalAlgebra.FinSets.FinSetInt}, Dict{Int64, Catlab.CategoricalAlgebra.FinSets.FinDomFunctionVector{Int64, Vector{Int64}, Catlab.CategoricalAlgebra.FinSets.FinSetInt}}}}(Graph:\n",
       "  V = 1:3\n",
       "  E = 1:2\n",
       "  src : E → V = [1, 2]\n",
       "  tgt : E → V = [2, 3], FinDomFunctor(Dict{Int64, Catlab.CategoricalAlgebra.FinSets.FinSetInt}(5 => FinSet(4), 4 => FinSet(4), 2 => FinSet(2), 3 => FinSet(2), 1 => FinSet(2)), Dict{Int64, Catlab.CategoricalAlgebra.FinSets.FinDomFunctionVector{Int64, Vector{Int64}, Catlab.CategoricalAlgebra.FinSets.FinSetInt}}(4 => FinFunction([4, 1], 2, 4), 2 => FinFunction([1, 4], 2, 4), 3 => FinFunction([4, 1], 2, 4), 1 => FinFunction([4, 1], 2, 4)), FinCat(Graph {V:5, E:4}), TypeCat(Catlab.CategoricalAlgebra.FinSets.FinSetInt, Catlab.CategoricalAlgebra.FinSets.FinDomFunctionVector{Int64, Vector{Int64}, Catlab.CategoricalAlgebra.FinSets.FinSetInt})), CoDecomposition, FinCat(Graph:\n",
       "  V = 1:5\n",
       "  E = 1:4\n",
       "  src : E → V = [1, 2, 2, 3]\n",
       "  tgt : E → V = [4, 5, 4, 5]))"
      ]
     },
     "execution_count": 13,
     "metadata": {},
     "output_type": "execute_result"
    }
   ],
   "source": [
    "d = witness"
   ]
  },
  {
   "cell_type": "code",
   "execution_count": 25,
   "id": "6b8ffae1-04cc-48e7-869c-05eac8b5fd6e",
   "metadata": {},
   "outputs": [
    {
     "data": {
      "text/plain": [
       "([1, 3], Catlab.CategoricalAlgebra.FinSets.FinDomFunctionVector{Int64, Vector{Int64}, Catlab.CategoricalAlgebra.FinSets.FinSetInt}[FinFunction([4, 1], 2, 4), FinFunction([3, 4, 1, 2], 4, 4)])"
      ]
     },
     "execution_count": 25,
     "metadata": {},
     "output_type": "execute_result"
    }
   ],
   "source": [
    "(csp, d_csp) = tup"
   ]
  },
  {
   "cell_type": "code",
   "execution_count": 26,
   "id": "e6b54aa7-d786-42b1-89f9-15bcf5abd587",
   "metadata": {},
   "outputs": [
    {
     "data": {
      "text/plain": [
       "Catlab.CategoricalAlgebra.Limits.CompositePullback{Catlab.CategoricalAlgebra.FinSets.FinSetInt, Multicospan{Catlab.CategoricalAlgebra.FinSets.FinSetInt, Catlab.CategoricalAlgebra.FinSets.FinDomFunctionVector{Int64, Vector{Int64}, Catlab.CategoricalAlgebra.FinSets.FinSetInt}, Vector{Catlab.CategoricalAlgebra.FinSets.FinDomFunctionVector{Int64, Vector{Int64}, Catlab.CategoricalAlgebra.FinSets.FinSetInt}}}, Multispan{Catlab.CategoricalAlgebra.FinSets.FinSetInt, Catlab.CategoricalAlgebra.Sets.CompositeFunction{Catlab.CategoricalAlgebra.FinSets.FinSetInt, Catlab.CategoricalAlgebra.FinSets.FinSetInt, Catlab.CategoricalAlgebra.FinSets.FinDomFunctionVector{Int64, Vector{Int64}, Catlab.CategoricalAlgebra.FinSets.FinSetInt}, Catlab.CategoricalAlgebra.Sets.SetFunctionCallable{Int64, Int64, Catlab.CategoricalAlgebra.FinSets.FinSetInt, Catlab.CategoricalAlgebra.FinSets.FinSetInt}}, Vector{Catlab.CategoricalAlgebra.Sets.CompositeFunction{Catlab.CategoricalAlgebra.FinSets.FinSetInt, Catlab.CategoricalAlgebra.FinSets.FinSetInt, Catlab.CategoricalAlgebra.FinSets.FinDomFunctionVector{Int64, Vector{Int64}, Catlab.CategoricalAlgebra.FinSets.FinSetInt}, Catlab.CategoricalAlgebra.Sets.SetFunctionCallable{Int64, Int64, Catlab.CategoricalAlgebra.FinSets.FinSetInt, Catlab.CategoricalAlgebra.FinSets.FinSetInt}}}}, Limit{Catlab.CategoricalAlgebra.FinSets.FinSetInt, DiscreteDiagram{Catlab.CategoricalAlgebra.FinSets.FinSetInt, Any, Vector{Catlab.CategoricalAlgebra.FinSets.FinSetInt}}, Multispan{Catlab.CategoricalAlgebra.FinSets.FinSetInt, Catlab.CategoricalAlgebra.Sets.SetFunctionCallable{Int64, Int64, Catlab.CategoricalAlgebra.FinSets.FinSetInt, Catlab.CategoricalAlgebra.FinSets.FinSetInt}, Vector{Catlab.CategoricalAlgebra.Sets.SetFunctionCallable{Int64, Int64, Catlab.CategoricalAlgebra.FinSets.FinSetInt, Catlab.CategoricalAlgebra.FinSets.FinSetInt}}}}, Limit{Catlab.CategoricalAlgebra.FinSets.FinSetInt, ParallelMorphisms{Catlab.CategoricalAlgebra.FinSets.FinSetInt, Catlab.CategoricalAlgebra.FinSets.FinSetInt, Catlab.CategoricalAlgebra.Sets.CompositeFunction{Catlab.CategoricalAlgebra.FinSets.FinSetInt, Catlab.CategoricalAlgebra.FinSets.FinSetInt, Catlab.CategoricalAlgebra.Sets.SetFunctionCallable{Int64, Int64, Catlab.CategoricalAlgebra.FinSets.FinSetInt, Catlab.CategoricalAlgebra.FinSets.FinSetInt}, Catlab.CategoricalAlgebra.FinSets.FinDomFunctionVector{Int64, Vector{Int64}, Catlab.CategoricalAlgebra.FinSets.FinSetInt}}, Vector{Catlab.CategoricalAlgebra.Sets.CompositeFunction{Catlab.CategoricalAlgebra.FinSets.FinSetInt, Catlab.CategoricalAlgebra.FinSets.FinSetInt, Catlab.CategoricalAlgebra.Sets.SetFunctionCallable{Int64, Int64, Catlab.CategoricalAlgebra.FinSets.FinSetInt, Catlab.CategoricalAlgebra.FinSets.FinSetInt}, Catlab.CategoricalAlgebra.FinSets.FinDomFunctionVector{Int64, Vector{Int64}, Catlab.CategoricalAlgebra.FinSets.FinSetInt}}}}, SMultispan{1, Catlab.CategoricalAlgebra.FinSets.FinSetInt, Catlab.CategoricalAlgebra.FinSets.FinDomFunctionVector{Int64, Vector{Int64}, Catlab.CategoricalAlgebra.FinSets.FinSetInt}, StaticArraysCore.SVector{1, Catlab.CategoricalAlgebra.FinSets.FinDomFunctionVector{Int64, Vector{Int64}, Catlab.CategoricalAlgebra.FinSets.FinSetInt}}}}}(Multicospan{Catlab.CategoricalAlgebra.FinSets.FinSetInt, Catlab.CategoricalAlgebra.FinSets.FinDomFunctionVector{Int64, Vector{Int64}, Catlab.CategoricalAlgebra.FinSets.FinSetInt}, Vector{Catlab.CategoricalAlgebra.FinSets.FinDomFunctionVector{Int64, Vector{Int64}, Catlab.CategoricalAlgebra.FinSets.FinSetInt}}}(FinSet(4), Catlab.CategoricalAlgebra.FinSets.FinDomFunctionVector{Int64, Vector{Int64}, Catlab.CategoricalAlgebra.FinSets.FinSetInt}[FinFunction([4, 1], 2, 4), FinFunction([3, 4, 1, 2], 4, 4)]), Multispan{Catlab.CategoricalAlgebra.FinSets.FinSetInt, Catlab.CategoricalAlgebra.Sets.CompositeFunction{Catlab.CategoricalAlgebra.FinSets.FinSetInt, Catlab.CategoricalAlgebra.FinSets.FinSetInt, Catlab.CategoricalAlgebra.FinSets.FinDomFunctionVector{Int64, Vector{Int64}, Catlab.CategoricalAlgebra.FinSets.FinSetInt}, Catlab.CategoricalAlgebra.Sets.SetFunctionCallable{Int64, Int64, Catlab.CategoricalAlgebra.FinSets.FinSetInt, Catlab.CategoricalAlgebra.FinSets.FinSetInt}}, Vector{Catlab.CategoricalAlgebra.Sets.CompositeFunction{Catlab.CategoricalAlgebra.FinSets.FinSetInt, Catlab.CategoricalAlgebra.FinSets.FinSetInt, Catlab.CategoricalAlgebra.FinSets.FinDomFunctionVector{Int64, Vector{Int64}, Catlab.CategoricalAlgebra.FinSets.FinSetInt}, Catlab.CategoricalAlgebra.Sets.SetFunctionCallable{Int64, Int64, Catlab.CategoricalAlgebra.FinSets.FinSetInt, Catlab.CategoricalAlgebra.FinSets.FinSetInt}}}}(FinSet(2), Catlab.CategoricalAlgebra.Sets.CompositeFunction{Catlab.CategoricalAlgebra.FinSets.FinSetInt, Catlab.CategoricalAlgebra.FinSets.FinSetInt, Catlab.CategoricalAlgebra.FinSets.FinDomFunctionVector{Int64, Vector{Int64}, Catlab.CategoricalAlgebra.FinSets.FinSetInt}, Catlab.CategoricalAlgebra.Sets.SetFunctionCallable{Int64, Int64, Catlab.CategoricalAlgebra.FinSets.FinSetInt, Catlab.CategoricalAlgebra.FinSets.FinSetInt}}[compose(FinFunction([3, 6], 2, 8), FinFunction(#64, FinSet(8), FinSet(2))), compose(FinFunction([3, 6], 2, 8), FinFunction(#64, FinSet(8), FinSet(4)))]), Limit{Catlab.CategoricalAlgebra.FinSets.FinSetInt, DiscreteDiagram{Catlab.CategoricalAlgebra.FinSets.FinSetInt, Any, Vector{Catlab.CategoricalAlgebra.FinSets.FinSetInt}}, Multispan{Catlab.CategoricalAlgebra.FinSets.FinSetInt, Catlab.CategoricalAlgebra.Sets.SetFunctionCallable{Int64, Int64, Catlab.CategoricalAlgebra.FinSets.FinSetInt, Catlab.CategoricalAlgebra.FinSets.FinSetInt}, Vector{Catlab.CategoricalAlgebra.Sets.SetFunctionCallable{Int64, Int64, Catlab.CategoricalAlgebra.FinSets.FinSetInt, Catlab.CategoricalAlgebra.FinSets.FinSetInt}}}}(DiscreteDiagram{Catlab.CategoricalAlgebra.FinSets.FinSetInt, Any, Vector{Catlab.CategoricalAlgebra.FinSets.FinSetInt}}(Catlab.CategoricalAlgebra.FinSets.FinSetInt[FinSet(2), FinSet(4)]), Multispan{Catlab.CategoricalAlgebra.FinSets.FinSetInt, Catlab.CategoricalAlgebra.Sets.SetFunctionCallable{Int64, Int64, Catlab.CategoricalAlgebra.FinSets.FinSetInt, Catlab.CategoricalAlgebra.FinSets.FinSetInt}, Vector{Catlab.CategoricalAlgebra.Sets.SetFunctionCallable{Int64, Int64, Catlab.CategoricalAlgebra.FinSets.FinSetInt, Catlab.CategoricalAlgebra.FinSets.FinSetInt}}}(FinSet(8), Catlab.CategoricalAlgebra.Sets.SetFunctionCallable{Int64, Int64, Catlab.CategoricalAlgebra.FinSets.FinSetInt, Catlab.CategoricalAlgebra.FinSets.FinSetInt}[FinFunction(#64, FinSet(8), FinSet(2)), FinFunction(#64, FinSet(8), FinSet(4))])), Limit{Catlab.CategoricalAlgebra.FinSets.FinSetInt, ParallelMorphisms{Catlab.CategoricalAlgebra.FinSets.FinSetInt, Catlab.CategoricalAlgebra.FinSets.FinSetInt, Catlab.CategoricalAlgebra.Sets.CompositeFunction{Catlab.CategoricalAlgebra.FinSets.FinSetInt, Catlab.CategoricalAlgebra.FinSets.FinSetInt, Catlab.CategoricalAlgebra.Sets.SetFunctionCallable{Int64, Int64, Catlab.CategoricalAlgebra.FinSets.FinSetInt, Catlab.CategoricalAlgebra.FinSets.FinSetInt}, Catlab.CategoricalAlgebra.FinSets.FinDomFunctionVector{Int64, Vector{Int64}, Catlab.CategoricalAlgebra.FinSets.FinSetInt}}, Vector{Catlab.CategoricalAlgebra.Sets.CompositeFunction{Catlab.CategoricalAlgebra.FinSets.FinSetInt, Catlab.CategoricalAlgebra.FinSets.FinSetInt, Catlab.CategoricalAlgebra.Sets.SetFunctionCallable{Int64, Int64, Catlab.CategoricalAlgebra.FinSets.FinSetInt, Catlab.CategoricalAlgebra.FinSets.FinSetInt}, Catlab.CategoricalAlgebra.FinSets.FinDomFunctionVector{Int64, Vector{Int64}, Catlab.CategoricalAlgebra.FinSets.FinSetInt}}}}, SMultispan{1, Catlab.CategoricalAlgebra.FinSets.FinSetInt, Catlab.CategoricalAlgebra.FinSets.FinDomFunctionVector{Int64, Vector{Int64}, Catlab.CategoricalAlgebra.FinSets.FinSetInt}, StaticArraysCore.SVector{1, Catlab.CategoricalAlgebra.FinSets.FinDomFunctionVector{Int64, Vector{Int64}, Catlab.CategoricalAlgebra.FinSets.FinSetInt}}}}(ParallelMorphisms{Catlab.CategoricalAlgebra.FinSets.FinSetInt, Catlab.CategoricalAlgebra.FinSets.FinSetInt, Catlab.CategoricalAlgebra.Sets.CompositeFunction{Catlab.CategoricalAlgebra.FinSets.FinSetInt, Catlab.CategoricalAlgebra.FinSets.FinSetInt, Catlab.CategoricalAlgebra.Sets.SetFunctionCallable{Int64, Int64, Catlab.CategoricalAlgebra.FinSets.FinSetInt, Catlab.CategoricalAlgebra.FinSets.FinSetInt}, Catlab.CategoricalAlgebra.FinSets.FinDomFunctionVector{Int64, Vector{Int64}, Catlab.CategoricalAlgebra.FinSets.FinSetInt}}, Vector{Catlab.CategoricalAlgebra.Sets.CompositeFunction{Catlab.CategoricalAlgebra.FinSets.FinSetInt, Catlab.CategoricalAlgebra.FinSets.FinSetInt, Catlab.CategoricalAlgebra.Sets.SetFunctionCallable{Int64, Int64, Catlab.CategoricalAlgebra.FinSets.FinSetInt, Catlab.CategoricalAlgebra.FinSets.FinSetInt}, Catlab.CategoricalAlgebra.FinSets.FinDomFunctionVector{Int64, Vector{Int64}, Catlab.CategoricalAlgebra.FinSets.FinSetInt}}}}(FinSet(8), FinSet(4), Catlab.CategoricalAlgebra.Sets.CompositeFunction{Catlab.CategoricalAlgebra.FinSets.FinSetInt, Catlab.CategoricalAlgebra.FinSets.FinSetInt, Catlab.CategoricalAlgebra.Sets.SetFunctionCallable{Int64, Int64, Catlab.CategoricalAlgebra.FinSets.FinSetInt, Catlab.CategoricalAlgebra.FinSets.FinSetInt}, Catlab.CategoricalAlgebra.FinSets.FinDomFunctionVector{Int64, Vector{Int64}, Catlab.CategoricalAlgebra.FinSets.FinSetInt}}[compose(FinFunction(#64, FinSet(8), FinSet(2)), FinFunction([4, 1], 2, 4)), compose(FinFunction(#64, FinSet(8), FinSet(4)), FinFunction([3, 4, 1, 2], 4, 4))]), SMultispan{1, Catlab.CategoricalAlgebra.FinSets.FinSetInt, Catlab.CategoricalAlgebra.FinSets.FinDomFunctionVector{Int64, Vector{Int64}, Catlab.CategoricalAlgebra.FinSets.FinSetInt}, StaticArraysCore.SVector{1, Catlab.CategoricalAlgebra.FinSets.FinDomFunctionVector{Int64, Vector{Int64}, Catlab.CategoricalAlgebra.FinSets.FinSetInt}}}(FinSet(2), Catlab.CategoricalAlgebra.FinSets.FinDomFunctionVector{Int64, Vector{Int64}, Catlab.CategoricalAlgebra.FinSets.FinSetInt}[FinFunction([3, 6], 2, 8)])))"
      ]
     },
     "execution_count": 26,
     "metadata": {},
     "output_type": "execute_result"
    }
   ],
   "source": [
    "p_cone = pullback(d_csp)"
   ]
  },
  {
   "cell_type": "code",
   "execution_count": 27,
   "id": "b2bb46eb-3982-4b6b-9cec-ffca99354448",
   "metadata": {},
   "outputs": [
    {
     "data": {
      "text/plain": [
       "2-element Vector{Catlab.CategoricalAlgebra.Sets.CompositeFunction{Catlab.CategoricalAlgebra.FinSets.FinSetInt, Catlab.CategoricalAlgebra.FinSets.FinSetInt, Catlab.CategoricalAlgebra.FinSets.FinDomFunctionVector{Int64, Vector{Int64}, Catlab.CategoricalAlgebra.FinSets.FinSetInt}, Catlab.CategoricalAlgebra.Sets.SetFunctionCallable{Int64, Int64, Catlab.CategoricalAlgebra.FinSets.FinSetInt, Catlab.CategoricalAlgebra.FinSets.FinSetInt}}}:\n",
       " compose(FinFunction([3, 6], 2, 8), FinFunction(#64, FinSet(8), FinSet(2)))\n",
       " compose(FinFunction([3, 6], 2, 8), FinFunction(#64, FinSet(8), FinSet(4)))"
      ]
     },
     "execution_count": 27,
     "metadata": {},
     "output_type": "execute_result"
    }
   ],
   "source": [
    "p_legs = legs(p_cone)"
   ]
  },
  {
   "cell_type": "code",
   "execution_count": 28,
   "id": "77b4a7be-0025-49e6-893b-89e9efff9310",
   "metadata": {},
   "outputs": [
    {
     "data": {
      "text/plain": [
       "2-element Vector{Catlab.CategoricalAlgebra.FinSets.FinDomFunctionVector{Int64, Vector{Int64}, Catlab.CategoricalAlgebra.FinSets.FinSetInt}}:\n",
       " FinFunction([1, 2], 2, 2)\n",
       " FinFunction([2, 3], 2, 4)"
      ]
     },
     "execution_count": 28,
     "metadata": {},
     "output_type": "execute_result"
    }
   ],
   "source": [
    "imgs = force.(map(f->legs(image(f))[1], p_legs))"
   ]
  },
  {
   "cell_type": "code",
   "execution_count": 29,
   "id": "d23678d8-9ede-4a7b-a492-373b68c901fd",
   "metadata": {},
   "outputs": [
    {
     "data": {
      "text/plain": [
       "2-element Vector{Catlab.CategoricalAlgebra.FinSets.FinDomFunctionVector{Int64, Vector{Int64}, Catlab.CategoricalAlgebra.FinSets.FinSetInt}}:\n",
       " FinFunction([4, 1], 2, 4)\n",
       " FinFunction([4, 1], 2, 4)"
      ]
     },
     "execution_count": 29,
     "metadata": {},
     "output_type": "execute_result"
    }
   ],
   "source": [
    "new_d_csp = force.(map(t->compose(t...), zip(imgs, d_csp)))"
   ]
  },
  {
   "cell_type": "code",
   "execution_count": 48,
   "id": "8a9f70ef-05a4-46e4-aa5c-ad787cb198da",
   "metadata": {},
   "outputs": [
    {
     "data": {
      "text/plain": [
       "FinCat(Graph:\n",
       "  V = 1:5\n",
       "  E = 1:4\n",
       "  src : E → V = [2, 2, 1, 3]\n",
       "  tgt : E → V = [4, 5, 4, 5])"
      ]
     },
     "execution_count": 48,
     "metadata": {},
     "output_type": "execute_result"
    }
   ],
   "source": [
    "d_dom = dom(d.diagram)"
   ]
  },
  {
   "cell_type": "code",
   "execution_count": 33,
   "id": "c4a70d88-121c-4842-ac1f-6508118535ea",
   "metadata": {},
   "outputs": [
    {
     "data": {
      "text/plain": [
       "mor_replace (generic function with 1 method)"
      ]
     },
     "execution_count": 33,
     "metadata": {},
     "output_type": "execute_result"
    }
   ],
   "source": [
    "  function ob_replace(x)\n",
    "    if x == dom(d_dom, csp[1])\n",
    "      return dom(new_d_csp[1])\n",
    "    elseif x == dom(d_dom, csp[2])\n",
    "      return dom(new_d_csp[2])\n",
    "    elseif x == codom(d_dom, csp[1])\n",
    "      return codom(new_d_csp[1])\n",
    "    else\n",
    "      ob_map(d,x)\n",
    "    end\n",
    "  end\n",
    "\n",
    "  function mor_replace(f)\n",
    "    if f == csp[1]\n",
    "      return new_d_csp[1]\n",
    "    elseif f == csp[2]\n",
    "      return new_d_csp[2]\n",
    "    else\n",
    "      return hom_map(d,f)\n",
    "    end\n",
    "  end"
   ]
  },
  {
   "cell_type": "code",
   "execution_count": 34,
   "id": "8ad67d01-91fe-4e47-840f-d961ea1aa6b3",
   "metadata": {},
   "outputs": [
    {
     "data": {
      "text/plain": [
       "Dict{Int64, Catlab.CategoricalAlgebra.FinSets.FinSetInt} with 5 entries:\n",
       "  5 => FinSet(4)\n",
       "  4 => FinSet(4)\n",
       "  2 => FinSet(2)\n",
       "  3 => FinSet(2)\n",
       "  1 => FinSet(2)"
      ]
     },
     "execution_count": 34,
     "metadata": {},
     "output_type": "execute_result"
    }
   ],
   "source": [
    "  # start with the object map δ₀\n",
    "  δ₀ = Dict( x => ob_replace(x) for x ∈ ob_generators(d_dom))"
   ]
  },
  {
   "cell_type": "code",
   "execution_count": 35,
   "id": "9edc65be-aedb-4986-a6a3-7704a147b816",
   "metadata": {},
   "outputs": [
    {
     "data": {
      "text/plain": [
       "Dict{Int64, Catlab.CategoricalAlgebra.FinSets.FinDomFunctionVector{Int64, Vector{Int64}, Catlab.CategoricalAlgebra.FinSets.FinSetInt}} with 4 entries:\n",
       "  4 => FinFunction([4, 1], 2, 4)\n",
       "  2 => FinFunction([1, 4], 2, 4)\n",
       "  3 => FinFunction([4, 1], 2, 4)\n",
       "  1 => FinFunction([4, 1], 2, 4)"
      ]
     },
     "execution_count": 35,
     "metadata": {},
     "output_type": "execute_result"
    }
   ],
   "source": [
    "  # now do the same thing with the morphism map\n",
    "  δ₁ = Dict( f => mor_replace(f) for f ∈ hom_generators(d_dom))"
   ]
  },
  {
   "cell_type": "code",
   "execution_count": 36,
   "id": "52682957-963f-45b9-a65c-c12c97f0ab31",
   "metadata": {},
   "outputs": [
    {
     "data": {
      "text/plain": [
       "StrDecomp{Graph, Catlab.CategoricalAlgebra.FinCats.FreeCatGraph{Graph}, Catlab.CategoricalAlgebra.FinCats.FinDomFunctorMap{Catlab.CategoricalAlgebra.FinCats.FreeCatGraph{Graph}, TypeCat{Catlab.CategoricalAlgebra.FinSets.FinSetInt, Catlab.CategoricalAlgebra.FinSets.FinDomFunctionVector{Int64, Vector{Int64}, Catlab.CategoricalAlgebra.FinSets.FinSetInt}}, Dict{Int64, Catlab.CategoricalAlgebra.FinSets.FinSetInt}, Dict{Int64, Catlab.CategoricalAlgebra.FinSets.FinDomFunctionVector{Int64, Vector{Int64}, Catlab.CategoricalAlgebra.FinSets.FinSetInt}}}}(Graph:\n",
       "  V = 1:3\n",
       "  E = 1:2\n",
       "  src : E → V = [2, 2]\n",
       "  tgt : E → V = [1, 3], FinDomFunctor(Dict{Int64, Catlab.CategoricalAlgebra.FinSets.FinSetInt}(5 => FinSet(4), 4 => FinSet(4), 2 => FinSet(2), 3 => FinSet(2), 1 => FinSet(2)), Dict{Int64, Catlab.CategoricalAlgebra.FinSets.FinDomFunctionVector{Int64, Vector{Int64}, Catlab.CategoricalAlgebra.FinSets.FinSetInt}}(4 => FinFunction([4, 1], 2, 4), 2 => FinFunction([1, 4], 2, 4), 3 => FinFunction([4, 1], 2, 4), 1 => FinFunction([4, 1], 2, 4)), FinCat(Graph {V:5, E:4}), TypeCat(Catlab.CategoricalAlgebra.FinSets.FinSetInt, Catlab.CategoricalAlgebra.FinSets.FinDomFunctionVector{Int64, Vector{Int64}, Catlab.CategoricalAlgebra.FinSets.FinSetInt})), CoDecomposition, FinCat(Graph:\n",
       "  V = 1:5\n",
       "  E = 1:4\n",
       "  src : E → V = [2, 2, 1, 3]\n",
       "  tgt : E → V = [4, 5, 4, 5]))"
      ]
     },
     "execution_count": 36,
     "metadata": {},
     "output_type": "execute_result"
    }
   ],
   "source": [
    "StrDecomp(d.decomp_shape, FinDomFunctor(δ₀, δ₁, d.domain), d.decomp_type)"
   ]
  },
  {
   "cell_type": "code",
   "execution_count": 37,
   "id": "f91e696e-8065-43af-86be-b176974a323a",
   "metadata": {},
   "outputs": [
    {
     "data": {
      "text/plain": [
       "false"
      ]
     },
     "execution_count": 37,
     "metadata": {},
     "output_type": "execute_result"
    }
   ],
   "source": [
    "any(isempty, bags(witness))"
   ]
  },
  {
   "cell_type": "code",
   "execution_count": null,
   "id": "38cc21b5-b66e-465f-98e4-5bc52a8efeb8",
   "metadata": {},
   "outputs": [],
   "source": []
  }
 ],
 "metadata": {
  "kernelspec": {
   "display_name": "Julia 1.10.4",
   "language": "julia",
   "name": "julia-1.10"
  },
  "language_info": {
   "file_extension": ".jl",
   "mimetype": "application/julia",
   "name": "julia",
   "version": "1.10.4"
  }
 },
 "nbformat": 4,
 "nbformat_minor": 5
}
